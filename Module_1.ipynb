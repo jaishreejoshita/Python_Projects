{
  "nbformat": 4,
  "nbformat_minor": 0,
  "metadata": {
    "colab": {
      "provenance": [],
      "authorship_tag": "ABX9TyPFtRiUVcdCUqccNk7ayW36",
      "include_colab_link": true
    },
    "kernelspec": {
      "name": "python3",
      "display_name": "Python 3"
    },
    "language_info": {
      "name": "python"
    }
  },
  "cells": [
    {
      "cell_type": "markdown",
      "metadata": {
        "id": "view-in-github",
        "colab_type": "text"
      },
      "source": [
        "<a href=\"https://colab.research.google.com/github/jaishreejoshita/Python_Projects/blob/main/Module_1.ipynb\" target=\"_parent\"><img src=\"https://colab.research.google.com/assets/colab-badge.svg\" alt=\"Open In Colab\"/></a>"
      ]
    },
    {
      "cell_type": "markdown",
      "source": [
        "Module 1 - Do It Yourself\n",
        "\n",
        "1. Write a Python program that takes user input for their name and greets the user. Then, prompt the user to enter two values. After receiving the values, swap them and print both the ordiginal values and the swapped values."
      ],
      "metadata": {
        "id": "WvJXrW4pK4ZF"
      }
    },
    {
      "cell_type": "code",
      "execution_count": null,
      "metadata": {
        "colab": {
          "base_uri": "https://localhost:8080/"
        },
        "id": "9WWZx0FlKx7p",
        "outputId": "b8e07cf4-a0f9-4689-b34a-b7ccd3e7ab4e"
      },
      "outputs": [
        {
          "output_type": "stream",
          "name": "stdout",
          "text": [
            "Please, enter your name:Jaishree\n",
            "Hello, Jaishree!, Welcome to the Python Program\n"
          ]
        }
      ],
      "source": [
        "#greeting\n",
        "\n",
        "name = input(\"Please, enter your name:\")\n",
        "print (f'Hello, {name}!, Welcome to the Python Program')"
      ]
    },
    {
      "cell_type": "code",
      "source": [
        "value_1 = int(input(\"Please enter first value: \"))\n",
        "value_2 = int(input(\"Please enter second value: \"))\n",
        "print(f'\\nThe Original Values: First = {value_1}, Second = {value_2}')\n"
      ],
      "metadata": {
        "colab": {
          "base_uri": "https://localhost:8080/"
        },
        "id": "CvdaLBc4LcEt",
        "outputId": "803f2326-ce9a-4948-fa85-7dc7beb155d6"
      },
      "execution_count": 1,
      "outputs": [
        {
          "output_type": "stream",
          "name": "stdout",
          "text": [
            "Please enter first value: 1\n",
            "Please enter second value: 2\n",
            "\n",
            "The Original Values: First = 1, Second = 2\n"
          ]
        }
      ]
    },
    {
      "cell_type": "code",
      "source": [
        "#swapping\n",
        "\n",
        "value_1, value_2 = value_2, value_1\n",
        "print(f'\\nThe Swapped Values: First = {value_1}, Second = {value_2}')"
      ],
      "metadata": {
        "colab": {
          "base_uri": "https://localhost:8080/"
        },
        "id": "QjEgZRTrM17g",
        "outputId": "d7569460-66c9-4710-a707-0f1ea4298250"
      },
      "execution_count": 2,
      "outputs": [
        {
          "output_type": "stream",
          "name": "stdout",
          "text": [
            "\n",
            "The Swapped Values: First = 2, Second = 1\n"
          ]
        }
      ]
    },
    {
      "cell_type": "markdown",
      "source": [
        "--------------------------------------------------------------------------------"
      ],
      "metadata": {
        "id": "ljgxMltnPkYW"
      }
    },
    {
      "cell_type": "markdown",
      "source": [
        "2. Write a Python program that asks the user to input the radius of a circle. Calculate the area of the circle using the formula area = π * radius^2, where π (pi) is a constant approximately equal to 3.14. Print out the calculated area. Ensure that the user input for the radius is converted to a float data type before performing calculations."
      ],
      "metadata": {
        "id": "pV7dBfaePU2V"
      }
    },
    {
      "cell_type": "code",
      "source": [
        "radius = float(input(\"Please enter the radius of the circle: \"))\n",
        "area_of_the_circle = 3.14 * radius**2\n",
        "print(f'The area of the circle is {area_of_the_circle}')"
      ],
      "metadata": {
        "colab": {
          "base_uri": "https://localhost:8080/"
        },
        "id": "UGA4BWpNPT6s",
        "outputId": "46d4e197-b8df-47e0-853a-5a729eef782b"
      },
      "execution_count": null,
      "outputs": [
        {
          "output_type": "stream",
          "name": "stdout",
          "text": [
            "Please enter the radius of the circle: 4\n",
            "The area of the circle is 50.24\n"
          ]
        }
      ]
    },
    {
      "cell_type": "markdown",
      "source": [
        "--------------------------------------------------------------------------------"
      ],
      "metadata": {
        "id": "LLjkUBmURKfi"
      }
    },
    {
      "cell_type": "markdown",
      "source": [
        "3. Write a Python program where the user is prompted to input their birth year. The program should then calculate and display the user's current age."
      ],
      "metadata": {
        "id": "iL_7Ga77ABuz"
      }
    },
    {
      "cell_type": "code",
      "source": [
        "current_year = 2025\n",
        "birth_year = int(input(\"Please entery your birth year: \"))\n",
        "age = current_year - birth_year\n",
        "print(f'Your age is {age}')"
      ],
      "metadata": {
        "colab": {
          "base_uri": "https://localhost:8080/"
        },
        "id": "JLmBYeZN_6k2",
        "outputId": "ade539f0-0225-4c58-e1db-608e6e922e1d"
      },
      "execution_count": null,
      "outputs": [
        {
          "output_type": "stream",
          "name": "stdout",
          "text": [
            "Please entery your birth year: 1996\n",
            "Your age is 29\n"
          ]
        }
      ]
    },
    {
      "cell_type": "markdown",
      "source": [
        "4. Imagine you're a bakery owner and you want to personalize messages for your customers.\n",
        "\n",
        "Write a Python program where customers are prompted to input their name and favorite cake flavor. The program should then print a customized message saying: \"Hello, [name]! We're delighted to serve you your favorite [favorite_cake] cake on your birthday. Happy Birthday.\""
      ],
      "metadata": {
        "id": "MdAjhAccA_Gb"
      }
    },
    {
      "cell_type": "code",
      "source": [
        "name = input(\"Please enter your name: \")\n",
        "favorite_cake = input(\"Please enter your favourite cake flavor: \")\n",
        "print(f'Hello {name}! We are delighted to serve you your favourite {favorite_cake} cake on your birthday. Happy Birthday.')"
      ],
      "metadata": {
        "colab": {
          "base_uri": "https://localhost:8080/"
        },
        "id": "mclWIHHSBEZr",
        "outputId": "669ebcf0-e058-4ab3-b353-0f5ac7284e64"
      },
      "execution_count": null,
      "outputs": [
        {
          "output_type": "stream",
          "name": "stdout",
          "text": [
            "Please enter your name: Jaishree\n",
            "Please enter your favourite cake flavor: Vanilla\n",
            "Hello Jaishree! We are delighted to serve you your favourite Vanilla cake on your birthday. Happy Birthday.\n"
          ]
        }
      ]
    },
    {
      "cell_type": "markdown",
      "source": [
        "--------------------------------------------------------------------------------"
      ],
      "metadata": {
        "id": "xe4FY2efCLP1"
      }
    },
    {
      "cell_type": "markdown",
      "source": [
        "5. Write a Python program to calculate the simple interest with user input for principal amount, rate, and time."
      ],
      "metadata": {
        "id": "9-uk0HgVCQf_"
      }
    },
    {
      "cell_type": "code",
      "source": [
        "principal_amount = float(input(\"Please enter the principal amount: \"))\n",
        "rate = float(input(\"Please enter the rate of interest: \"))\n",
        "time = float(input(\"Please enter the time in years: \"))\n",
        "simple_interest = (principal_amount * rate * time) / 100\n",
        "print(f'The simple interest is {simple_interest}')\n"
      ],
      "metadata": {
        "colab": {
          "base_uri": "https://localhost:8080/"
        },
        "id": "Bh8fLSDbCOhb",
        "outputId": "20bcecb4-63f0-41e6-97d8-d409d0a5f1e9"
      },
      "execution_count": null,
      "outputs": [
        {
          "output_type": "stream",
          "name": "stdout",
          "text": [
            "Please enter the principal amount: 100\n",
            "Please enter the rate of interest: 5\n",
            "Please enter the time in years: 10\n",
            "The simple interest is 50.0\n"
          ]
        }
      ]
    }
  ]
}