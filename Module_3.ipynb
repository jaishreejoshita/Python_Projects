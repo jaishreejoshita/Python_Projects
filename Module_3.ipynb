{
  "nbformat": 4,
  "nbformat_minor": 0,
  "metadata": {
    "colab": {
      "provenance": [],
      "authorship_tag": "ABX9TyPjxoDH3Bx2rxkjokCZIcaI",
      "include_colab_link": true
    },
    "kernelspec": {
      "name": "python3",
      "display_name": "Python 3"
    },
    "language_info": {
      "name": "python"
    }
  },
  "cells": [
    {
      "cell_type": "markdown",
      "metadata": {
        "id": "view-in-github",
        "colab_type": "text"
      },
      "source": [
        "<a href=\"https://colab.research.google.com/github/jaishreejoshita/Python_Projects/blob/main/Module_3.ipynb\" target=\"_parent\"><img src=\"https://colab.research.google.com/assets/colab-badge.svg\" alt=\"Open In Colab\"/></a>"
      ]
    },
    {
      "cell_type": "markdown",
      "source": [
        "Module 3 - Do It Yourself"
      ],
      "metadata": {
        "id": "AkNBO6v20yvA"
      }
    },
    {
      "cell_type": "markdown",
      "source": [
        "1. Write a Python program to initialize a 3x3 NumPy array with any integer values of your choice. Then, perform the following operations:\n",
        "- Multiply the entire array by 2.\n",
        "- Add 5 to each element of the array.\n",
        "- Calculate the square of each element in the array.\n",
        "- Print the original array and the results of each operation."
      ],
      "metadata": {
        "id": "ALlawIEO09iZ"
      }
    },
    {
      "cell_type": "code",
      "source": [
        "#import libraries\n",
        "import numpy as np\n",
        "\n",
        "#Step 1: create the original 3x3 array\n",
        "original_array = np.array([[1,2,3],\n",
        "                          [4,5,6],\n",
        "                          [7,8,9]])\n",
        "\n",
        "#Step 2: Multiply the entire array by 2\n",
        "multiplied_array = original_array * 2\n",
        "\n",
        "#Step 3: Add 5 to each element of the array\n",
        "added_array = original_array + 5\n",
        "\n",
        "#Step 4:  Calculate the square of each element\n",
        "squared_array = original_array ** 2\n",
        "\n",
        "#Step 5: Print the original array and the results of each operation\n",
        "\n",
        "print(\"Original Array:\")\n",
        "print(original_array)\n",
        "\n",
        "print(\"\\nMultiplied Array:\")\n",
        "print(multiplied_array)\n",
        "\n",
        "print(\"\\nAdded Array:\")\n",
        "print(added_array)\n",
        "\n",
        "print(\"\\nSquared Array:\")\n",
        "print(squared_array)"
      ],
      "metadata": {
        "colab": {
          "base_uri": "https://localhost:8080/"
        },
        "id": "ogz6K29R1vyU",
        "outputId": "c12fb760-06d5-4439-a2b8-fb46db0c0b5d"
      },
      "execution_count": 3,
      "outputs": [
        {
          "output_type": "stream",
          "name": "stdout",
          "text": [
            "Original Array:\n",
            "[[1 2 3]\n",
            " [4 5 6]\n",
            " [7 8 9]]\n",
            "\n",
            "Multiplied Array:\n",
            "[[ 2  4  6]\n",
            " [ 8 10 12]\n",
            " [14 16 18]]\n",
            "\n",
            "Added Array:\n",
            "[[ 6  7  8]\n",
            " [ 9 10 11]\n",
            " [12 13 14]]\n",
            "\n",
            "Squared Array:\n",
            "[[ 1  4  9]\n",
            " [16 25 36]\n",
            " [49 64 81]]\n"
          ]
        }
      ]
    },
    {
      "cell_type": "markdown",
      "source": [
        "2. Write a Python program to initialize a 3x3 NumPy array with any integer values of your choice. Then, perform the following slicing operations:\n",
        "\n",
        "- Extract the first row of the array.\n",
        "- Extract the last column of the array.\n",
        "- Extract a 2x2 sub-array from the center of the original array.\n"
      ],
      "metadata": {
        "id": "eKOQY8hA1LYo"
      }
    },
    {
      "cell_type": "code",
      "source": [
        "#import libraries\n",
        "import numpy as np\n",
        "\n",
        "#Step 1: create the original 3x3 array\n",
        "original_array = np.array([[1,2,3],\n",
        "                          [4,5,6],\n",
        "                          [7,8,9]])\n",
        "\n",
        "#Step 2: Extract the first row\n",
        "first_row = original_array[0, :]\n",
        "\n",
        "#Step 3: Extract the last column\n",
        "last_column = original_array[:, -1]\n",
        "\n",
        "#Step 4: Extract a 2x2 sub-array from the center\n",
        "center_subarray = original_array[1:3, 1:3]\n",
        "\n",
        "#Step 5: Print the original array and the results of each operation\n",
        "print(\"Original Array:\")\n",
        "print(original_array)\n",
        "print(\"\\nFirst Row:\")\n",
        "print(first_row)\n",
        "print(\"\\nLast Column:\")\n",
        "print(last_column)\n",
        "print(\"\\nCenter Subarray:\")\n",
        "print(center_subarray)"
      ],
      "metadata": {
        "colab": {
          "base_uri": "https://localhost:8080/"
        },
        "id": "S_EXTS7U4gUN",
        "outputId": "1f5c6c0d-bf55-419b-9a32-e187b799e2f2"
      },
      "execution_count": 5,
      "outputs": [
        {
          "output_type": "stream",
          "name": "stdout",
          "text": [
            "Original Array:\n",
            "[[1 2 3]\n",
            " [4 5 6]\n",
            " [7 8 9]]\n",
            "\n",
            "First Row:\n",
            "[1 2 3]\n",
            "\n",
            "Last Column:\n",
            "[3 6 9]\n",
            "\n",
            "Center Subarray:\n",
            "[[5 6]\n",
            " [8 9]]\n"
          ]
        }
      ]
    },
    {
      "cell_type": "markdown",
      "source": [
        "3. Write a program to create a DataFrame in Python to store the names and marks of 10 students. Each row of the DataFrame should represent a student, with columns as 'Name' and 'Marks'. Populate the DataFrame with appropriate data and then print it."
      ],
      "metadata": {
        "id": "FOMhnW2r1UzL"
      }
    },
    {
      "cell_type": "code",
      "source": [
        "#import library\n",
        "import pandas as pd\n",
        "\n",
        "#Step 1: Create a dictionar with student data\n",
        "student_data = {\n",
        "    'Name': ['Alice', 'Bob', 'Charlie', 'David', 'Eve', 'Frank', 'Grace', 'Helen', 'Ivy', 'Jack'],\n",
        "    'Marks':[85, 78, 98, 54, 73, 29, 38, 54, 76, 88]\n",
        "}\n",
        "\n",
        "#Step 2: create a DataFrame\n",
        "df = pd.DataFrame(student_data)\n",
        "\n",
        "#Step 3: print the DataFrame\n",
        "print(df)"
      ],
      "metadata": {
        "colab": {
          "base_uri": "https://localhost:8080/"
        },
        "id": "lvafNYQB6HiN",
        "outputId": "d10eea1b-a0b7-40a6-967a-6d7131dff280"
      },
      "execution_count": 6,
      "outputs": [
        {
          "output_type": "stream",
          "name": "stdout",
          "text": [
            "      Name  Marks\n",
            "0    Alice     85\n",
            "1      Bob     78\n",
            "2  Charlie     98\n",
            "3    David     54\n",
            "4      Eve     73\n",
            "5    Frank     29\n",
            "6    Grace     38\n",
            "7    Helen     54\n",
            "8      Ivy     76\n",
            "9     Jack     88\n"
          ]
        }
      ]
    },
    {
      "cell_type": "markdown",
      "source": [
        "4. Write a python program to create a DataFrame representing the names and income of 5 employees. The DataFrame should include columns ' Employee_name’ and ‘Income', and each row should correspond to an individual employee. Use the indices 'a', 'b', 'c', 'd', and 'e' for the DataFrame entries to uniquely identify each employee."
      ],
      "metadata": {
        "id": "kkWGtnGb1ZQY"
      }
    },
    {
      "cell_type": "code",
      "source": [
        "#import library\n",
        "import pandas as pd\n",
        "\n",
        "#Step 1: Create a dictionary for employee data with custom indices\n",
        "employee_data = {\n",
        "    'Employee_name': ['Alice', 'Bob', 'Charlie', 'David', 'Eve'],\n",
        "    'Income': [50000, 60000, 55000, 70000, 65000]\n",
        "}\n",
        "\n",
        "#Step 2: Create a DataFrame with custom indices\n",
        "df = pd.DataFrame(employee_data, index=['a', 'b', 'c', 'd', 'e'])\n",
        "\n",
        "#Step 3: Print the DataFrame\n",
        "print(\"Employee Income Data:\")\n",
        "print(df)"
      ],
      "metadata": {
        "colab": {
          "base_uri": "https://localhost:8080/"
        },
        "id": "U6ZiKJy_7UZ-",
        "outputId": "c9ac54bc-b2f5-45e3-8692-e15f0376fc0f"
      },
      "execution_count": 10,
      "outputs": [
        {
          "output_type": "stream",
          "name": "stdout",
          "text": [
            "Employee Income Data:\n",
            "  Employee_name  Income\n",
            "a         Alice   50000\n",
            "b           Bob   60000\n",
            "c       Charlie   55000\n",
            "d         David   70000\n",
            "e           Eve   65000\n"
          ]
        }
      ]
    },
    {
      "cell_type": "markdown",
      "source": [
        "5. Imagine you're tasked with visualizing data using Python. You have the following dataset representing the frequency of occurrences for categories A, B, C, D, and E, stored in two lists:\n",
        "\n",
        "  x = ['A', 'B', 'C', 'D', 'E']\n",
        "\n",
        "  y = [10, 20, 15, 25, 30]\n",
        "\n",
        "  Write a Python script that creates a bar plot to visualize this data. The categories A, B, C, D, and E should be displayed on the x-axis, while the corresponding frequencies should be displayed on the y-axis."
      ],
      "metadata": {
        "id": "7q00mGnm1ccB"
      }
    },
    {
      "cell_type": "code",
      "source": [
        "#import libraries\n",
        "import matplotlib.pyplot as plt\n",
        "\n",
        "#Step 1: Assign data - X(categories) and Y for frequencies\n",
        "x = ['A', 'B', 'C', 'D', 'E']\n",
        "y = [10, 20, 15, 25, 30]\n",
        "\n",
        "# Step 2: create a bar plot\n",
        "plt.figure(figsize=(8,6)) # Set figure size\n",
        "bars = plt.bar(x,y, color ='skyblue', edgecolor ='black')\n",
        "\n",
        "#Step 3: Add labels and title\n",
        "plt.xlabel(\"Categories\", fontsize=12)\n",
        "plt.ylabel(\"frequency\", fontsize=12)\n",
        "plt.title('Frequencies of Categories A-E', fontsize = 14)\n",
        "\n",
        "#Step 4: Add value labels on top of each bar\n",
        "for bar in bars:\n",
        "  height = bar.get_height()\n",
        "  plt.text(bar.get_x() + bar.get_width()/2, height, str(height), ha='center', va='bottom', fontsize=10)\n",
        "\n",
        "#Step 5: Customize the plot\n",
        "plt.grid(axis='y', linestyle =  '--', alpha = 0.7)\n",
        "plt.xticks(fontsize = 10)\n",
        "plt.yticks(fontsize = 10)\n",
        "\n",
        "#Step 6: Adjust layout to prevent label cutoff and Display the plot\n",
        "plt.tight_layout()\n",
        "plt.show()"
      ],
      "metadata": {
        "colab": {
          "base_uri": "https://localhost:8080/",
          "height": 607
        },
        "id": "RuvuHpwV0yhu",
        "outputId": "1a4fdc95-2486-4a4f-8098-1e112b5c5f08"
      },
      "execution_count": 17,
      "outputs": [
        {
          "output_type": "display_data",
          "data": {
            "text/plain": [
              "<Figure size 800x600 with 1 Axes>"
            ],
            "image/png": "[encoded data removed]"
          },
          "metadata": {}
        }
      ]
    }
  ]
}