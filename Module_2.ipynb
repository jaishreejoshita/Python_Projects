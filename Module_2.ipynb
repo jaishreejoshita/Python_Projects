{
  "nbformat": 4,
  "nbformat_minor": 0,
  "metadata": {
    "colab": {
      "provenance": [],
      "authorship_tag": "ABX9TyOxM7AlQDhhpZnqZyytB6pN",
      "include_colab_link": true
    },
    "kernelspec": {
      "name": "python3",
      "display_name": "Python 3"
    },
    "language_info": {
      "name": "python"
    }
  },
  "cells": [
    {
      "cell_type": "markdown",
      "metadata": {
        "id": "view-in-github",
        "colab_type": "text"
      },
      "source": [
        "<a href=\"https://colab.research.google.com/github/jaishreejoshita/Python_Projects/blob/main/Module_2.ipynb\" target=\"_parent\"><img src=\"https://colab.research.google.com/assets/colab-badge.svg\" alt=\"Open In Colab\"/></a>"
      ]
    },
    {
      "cell_type": "markdown",
      "source": [
        "Module 2 - Do It Yourself"
      ],
      "metadata": {
        "id": "tCvRUW4QEuRD"
      }
    },
    {
      "cell_type": "markdown",
      "source": [
        "1. Write a program that prompts the user to input a year, checks whether it's a leap year or not, and then prints the result."
      ],
      "metadata": {
        "id": "rgLK2qcwEzTO"
      }
    },
    {
      "cell_type": "code",
      "execution_count": 1,
      "metadata": {
        "id": "tsxPUr7MVCsu",
        "colab": {
          "base_uri": "https://localhost:8080/"
        },
        "outputId": "3dbe04d6-e65d-415b-fc8d-5ba79f45936b"
      },
      "outputs": [
        {
          "output_type": "stream",
          "name": "stdout",
          "text": [
            "Enter a year: 1889\n",
            "Not a leap year\n"
          ]
        }
      ],
      "source": [
        "year = int(input(\"Enter a year: \"))\n",
        "if year % 4 == 0:\n",
        "    print(\"leap year\")\n",
        "else:\n",
        "    print(\"Not a leap year\")"
      ]
    },
    {
      "cell_type": "markdown",
      "source": [
        "2. Write a Python program that prompts the user to input a word. The program should then determine and output the count of vowels (a, e, i, o, u) in the provided word. Additionally, consider that the word can be in either uppercase or lowercase."
      ],
      "metadata": {
        "id": "_RqKHOKtEtCb"
      }
    },
    {
      "cell_type": "code",
      "source": [
        "words = input(\"Please enter a word: \")\n",
        "lower_words = words.lower()\n",
        "vowels = {'a', 'e', 'i', 'o', 'u'}\n",
        "vowel_count = 0\n",
        "for char in lower_words:\n",
        "    if char in vowels:\n",
        "        vowel_count += 1\n",
        "print(f\"The number of vowels in the word is: {vowel_count}\")"
      ],
      "metadata": {
        "colab": {
          "base_uri": "https://localhost:8080/"
        },
        "id": "uDUMbtpBGGk4",
        "outputId": "c192b403-8f9a-4833-a3b7-1970fe154f21"
      },
      "execution_count": null,
      "outputs": [
        {
          "output_type": "stream",
          "name": "stdout",
          "text": [
            "Please enter a word: Jaishree\n",
            "The number of vowels in the word is: 4\n"
          ]
        }
      ]
    },
    {
      "cell_type": "markdown",
      "source": [
        "3. Write a Python program that allows the user to input a list of 6 names. After receiving the list, the program should print only the names that start with the letter 'a', regardless of whether the letter is uppercase or lowercase."
      ],
      "metadata": {
        "id": "8liNVlG6Moug"
      }
    },
    {
      "cell_type": "code",
      "source": [
        "# Get 6 names from user input\n",
        "names = []\n",
        "for i in range(6):\n",
        "    name = input(f\"Enter name{i+1}: \")\n",
        "    names.append(name)\n",
        "\n",
        "print(\"Names starting with 'a': \")\n",
        "for name in names:\n",
        "    if name.lower().startswith('a'):\n",
        "        print(name)\n"
      ],
      "metadata": {
        "colab": {
          "base_uri": "https://localhost:8080/"
        },
        "id": "W5Olcxw-O51K",
        "outputId": "d9de1db8-9128-4478-8589-9f773432e848"
      },
      "execution_count": null,
      "outputs": [
        {
          "output_type": "stream",
          "name": "stdout",
          "text": [
            "Enter name1: Jai\n",
            "Enter name2: Avi\n",
            "Enter name3: Raj\n",
            "Enter name4: Kishan\n",
            "Enter name5: Anu\n",
            "Enter name6: Ansh\n",
            "Names starting with 'a': \n",
            "Avi\n",
            "Anu\n",
            "Ansh\n"
          ]
        }
      ]
    },
    {
      "cell_type": "markdown",
      "source": [
        "4. Write a Python program that takes a list of 10 integers as input. Your program should iterate through the list and print the following:\n",
        "\n",
        "  - For each even number encountered, print the number squared.\n",
        "\n",
        "  - For each odd number encountered, print the number cubed."
      ],
      "metadata": {
        "id": "Zn9PwMFMR7gP"
      }
    },
    {
      "cell_type": "code",
      "source": [
        "# a list of 10 integers as input\n",
        "\n",
        "number = []\n",
        "for i in range(10):\n",
        "    integer = int(input(f\"Enter a number{i+1}:\"))\n",
        "    number.append(integer)\n",
        "\n",
        "for integer in number:\n",
        "    if integer % 2 == 0:\n",
        "        print(f\"{integer} squared is {integer**2}\")\n",
        "    else:\n",
        "        print(f\"{integer} cubed is {integer**3}\")"
      ],
      "metadata": {
        "colab": {
          "base_uri": "https://localhost:8080/"
        },
        "id": "3B87bDBbSA0O",
        "outputId": "b6e2a5b9-29d0-48c1-c7f0-37cabcf88f24"
      },
      "execution_count": null,
      "outputs": [
        {
          "output_type": "stream",
          "name": "stdout",
          "text": [
            "Enter a number1:23\n",
            "Enter a number2:43\n",
            "Enter a number3:56\n",
            "Enter a number4:6\n",
            "Enter a number5:76\n",
            "Enter a number6:87\n",
            "Enter a number7:69\n",
            "Enter a number8:36\n",
            "Enter a number9:24\n",
            "Enter a number10:12\n",
            "23 cubed is 12167\n",
            "43 cubed is 79507\n",
            "56 squared is 3136\n",
            "6 squared is 36\n",
            "76 squared is 5776\n",
            "87 cubed is 658503\n",
            "69 cubed is 328509\n",
            "36 squared is 1296\n",
            "24 squared is 576\n",
            "12 squared is 144\n"
          ]
        }
      ]
    },
    {
      "cell_type": "markdown",
      "source": [
        "5. Imagine you're ordering flowers from a local delivery service. They offer a selection of beautiful flowers, including roses. Each rose is priced at Rs. 10. Along with your choice of roses, you'll need to provide the count of roses you wish to order and the delivery distance. The delivery charges are as follows: Rs. 25 for distances within 5 kilometers, Rs. 50 for distances between 5 and 10 kilometers, and Rs. 75 for distances greater than 10 kilometers. Write a Python program that prompts the user to enter the count of roses and the delivery distance, then calculates and displays the total price to pay, including both the cost of roses and the delivery charge."
      ],
      "metadata": {
        "id": "cthu0vDzTisW"
      }
    },
    {
      "cell_type": "code",
      "source": [
        "#user enter the count of roses and the delivery distance\n",
        "#given\n",
        "\n",
        "rose_price = 10\n",
        "delivery_charges_under_5km = 25\n",
        "delivery_charges_under_10km = 50\n",
        "delivery_charges_over_10km = 75\n",
        "\n",
        "# Get user input\n",
        "rose_count = int(input(\"Enter the count of rose you want to order: \"))\n",
        "delivery_distance = float(input(\"Enter the delivery distance in kilometers: \"))\n",
        "\n",
        "#calculate flower cost\n",
        "flower_cost = rose_count * rose_price\n",
        "\n",
        "#Calculate delivery charge\n",
        "if delivery_distance <= 5:\n",
        "    delivery_charge = delivery_charges_under_5km\n",
        "elif 5 < delivery_distance <= 10:\n",
        "        delivery_charge = delivery_charges_under_10km\n",
        "else:\n",
        "    delivery_charge = delivery_charges_over_10km\n",
        "\n",
        "\n",
        "#calculate total cost\n",
        "\n",
        "total_cost = flower_cost + delivery_charge\n",
        "\n",
        "#calculate the result\n",
        "\n",
        "print(\"\\nOrder Summary:\")\n",
        "print(f'Number of Roses:{rose_count}')\n",
        "print(f'Flower cost: {flower_cost} ')\n",
        "print(f'Deliver Distance: {distance}Km')\n",
        "print(f'Delivery Charges: {delivery_charge}')\n",
        "print(f'The amount to pay: {total_cost}')\n"
      ],
      "metadata": {
        "colab": {
          "base_uri": "https://localhost:8080/"
        },
        "id": "a07f5CvETlGM",
        "outputId": "1e677b38-b329-42d0-865a-f981db1015cf"
      },
      "execution_count": null,
      "outputs": [
        {
          "output_type": "stream",
          "name": "stdout",
          "text": [
            "Enter the count of rose you want to order: 20\n",
            "Enter the delivery distance in kilometers: 30\n",
            "\n",
            "Order Summary:\n",
            "Number of Roses:20\n",
            "Flower cost: 200 \n",
            "Deliver Distance: 30.0Km\n",
            "Delivery Charges: 75\n",
            "The amount to pay: 275\n"
          ]
        }
      ]
    }
  ]
}